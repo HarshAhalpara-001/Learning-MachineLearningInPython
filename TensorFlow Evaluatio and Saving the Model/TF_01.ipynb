{
  "nbformat": 4,
  "nbformat_minor": 0,
  "metadata": {
    "colab": {
      "provenance": [],
      "gpuType": "V28"
    },
    "kernelspec": {
      "name": "python3",
      "display_name": "Python 3"
    },
    "language_info": {
      "name": "python"
    },
    "accelerator": "TPU"
  },
  "cells": [
    {
      "cell_type": "markdown",
      "source": [
        "Basic Creation of Regression using Tenserflow."
      ],
      "metadata": {
        "id": "k6oFUt9ANSYf"
      }
    },
    {
      "cell_type": "code",
      "execution_count": 27,
      "metadata": {
        "id": "zSIzJ2UGM1Ws"
      },
      "outputs": [],
      "source": [
        "import tensorflow as tf\n",
        "import numpy as np\n",
        "import matplotlib.pyplot as plt\n",
        "from sklearn.model_selection import train_test_split"
      ]
    },
    {
      "cell_type": "code",
      "source": [
        "X = (np.random.randn(100)*10).astype(np.int16)\n",
        "print(X)\n",
        "y=(3*X+5).astype(np.int16)\n",
        "print(y)\n",
        "X_train,X_test,y_train,y_test=train_test_split(X,y,test_size=0.2)\n",
        "X_train=X_train.reshape(-1,1)\n",
        "X_test=X_train.reshape(-1,1)\n",
        "y_train=X_train.reshape(-1,1)\n",
        "y_test=X_train.reshape(-1,1)"
      ],
      "metadata": {
        "colab": {
          "base_uri": "https://localhost:8080/"
        },
        "id": "pF4Wj2qINgmB",
        "outputId": "f1808720-1aae-4338-823a-8ebe10506b1b"
      },
      "execution_count": 28,
      "outputs": [
        {
          "output_type": "stream",
          "name": "stdout",
          "text": [
            "[-12  22  -6   3 -15  -8  -8  -5  -2   8   4   0   2 -12  -1  -5   6   6\n",
            "   0   5   8   6  20  -2   6   0   7 -25  -6  -3  -1  -4 -15  13  11 -13\n",
            "  -3   8  16   4  -6 -15   0 -17  17  -2   8  -7  10  13   0  -6   7 -14\n",
            "  14   2   4   6  -6  18   5   0  -7  25 -12   7  15   7   5   0 -12  22\n",
            "   2   1 -13   3  18   5  -1   3  -5  21   8   2   4   5  28  14  16  -1\n",
            "  10  12  12   3 -13   9   7  19  22   1]\n",
            "[-31  71 -13  14 -40 -19 -19 -10  -1  29  17   5  11 -31   2 -10  23  23\n",
            "   5  20  29  23  65  -1  23   5  26 -70 -13  -4   2  -7 -40  44  38 -34\n",
            "  -4  29  53  17 -13 -40   5 -46  56  -1  29 -16  35  44   5 -13  26 -37\n",
            "  47  11  17  23 -13  59  20   5 -16  80 -31  26  50  26  20   5 -31  71\n",
            "  11   8 -34  14  59  20   2  14 -10  68  29  11  17  20  89  47  53   2\n",
            "  35  41  41  14 -34  32  26  62  71   8]\n"
          ]
        }
      ]
    },
    {
      "cell_type": "code",
      "source": [
        "plt.plot(X,y, 'go')\n",
        "plt.show()"
      ],
      "metadata": {
        "colab": {
          "base_uri": "https://localhost:8080/",
          "height": 430
        },
        "id": "4s2UDXRcOlN9",
        "outputId": "9b3a26db-93f2-44ec-e123-f9498f2704c5"
      },
      "execution_count": 29,
      "outputs": [
        {
          "output_type": "display_data",
          "data": {
            "text/plain": [
              "<Figure size 640x480 with 1 Axes>"
            ],
            "image/png": "[encoded data removed]"
          },
          "metadata": {}
        }
      ]
    },
    {
      "cell_type": "code",
      "source": [
        "tf.random.set_seed(10)\n",
        "model=tf.keras.Sequential([\n",
        "    tf.keras.layers.Dense(1)\n",
        "])\n",
        "model.compile(loss=tf.keras.losses.mae,\n",
        "              optimizer=tf.keras.optimizers.SGD(),\n",
        "              metrics=['mae'])\n",
        "model.fit(X_train,y_train,epochs=50)"
      ],
      "metadata": {
        "colab": {
          "base_uri": "https://localhost:8080/"
        },
        "id": "OjjHyRMePJjg",
        "outputId": "d48df9c8-10a0-4047-e4bb-39f169f3c5cb"
      },
      "execution_count": 30,
      "outputs": [
        {
          "output_type": "stream",
          "name": "stdout",
          "text": [
            "Epoch 1/50\n",
            "3/3 [==============================] - 0s 5ms/step - loss: 0.6082 - mae: 0.6082\n",
            "Epoch 2/50\n",
            "3/3 [==============================] - 0s 3ms/step - loss: 0.3523 - mae: 0.3523\n",
            "Epoch 3/50\n",
            "3/3 [==============================] - 0s 3ms/step - loss: 0.4275 - mae: 0.4275\n",
            "Epoch 4/50\n",
            "3/3 [==============================] - 0s 3ms/step - loss: 0.3911 - mae: 0.3911\n",
            "Epoch 5/50\n",
            "3/3 [==============================] - 0s 3ms/step - loss: 0.4090 - mae: 0.4090\n",
            "Epoch 6/50\n",
            "3/3 [==============================] - 0s 3ms/step - loss: 0.4023 - mae: 0.4023\n",
            "Epoch 7/50\n",
            "3/3 [==============================] - 0s 3ms/step - loss: 0.4856 - mae: 0.4856\n",
            "Epoch 8/50\n",
            "3/3 [==============================] - 0s 3ms/step - loss: 0.3601 - mae: 0.3601\n",
            "Epoch 9/50\n",
            "3/3 [==============================] - 0s 3ms/step - loss: 0.4924 - mae: 0.4924\n",
            "Epoch 10/50\n",
            "3/3 [==============================] - 0s 3ms/step - loss: 0.3457 - mae: 0.3457\n",
            "Epoch 11/50\n",
            "3/3 [==============================] - 0s 3ms/step - loss: 0.5107 - mae: 0.5107\n",
            "Epoch 12/50\n",
            "3/3 [==============================] - 0s 3ms/step - loss: 0.3720 - mae: 0.3720\n",
            "Epoch 13/50\n",
            "3/3 [==============================] - 0s 3ms/step - loss: 0.4644 - mae: 0.4644\n",
            "Epoch 14/50\n",
            "3/3 [==============================] - 0s 3ms/step - loss: 0.3971 - mae: 0.3971\n",
            "Epoch 15/50\n",
            "3/3 [==============================] - 0s 3ms/step - loss: 0.4205 - mae: 0.4205\n",
            "Epoch 16/50\n",
            "3/3 [==============================] - 0s 3ms/step - loss: 0.4175 - mae: 0.4175\n",
            "Epoch 17/50\n",
            "3/3 [==============================] - 0s 3ms/step - loss: 0.3889 - mae: 0.3889\n",
            "Epoch 18/50\n",
            "3/3 [==============================] - 0s 3ms/step - loss: 0.4597 - mae: 0.4597\n",
            "Epoch 19/50\n",
            "3/3 [==============================] - 0s 3ms/step - loss: 0.4092 - mae: 0.4092\n",
            "Epoch 20/50\n",
            "3/3 [==============================] - 0s 3ms/step - loss: 0.4050 - mae: 0.4050\n",
            "Epoch 21/50\n",
            "3/3 [==============================] - 0s 3ms/step - loss: 0.3505 - mae: 0.3505\n",
            "Epoch 22/50\n",
            "3/3 [==============================] - 0s 3ms/step - loss: 0.4811 - mae: 0.4811\n",
            "Epoch 23/50\n",
            "3/3 [==============================] - 0s 3ms/step - loss: 0.3933 - mae: 0.3933\n",
            "Epoch 24/50\n",
            "3/3 [==============================] - 0s 3ms/step - loss: 0.4159 - mae: 0.4159\n",
            "Epoch 25/50\n",
            "3/3 [==============================] - 0s 3ms/step - loss: 0.3923 - mae: 0.3923\n",
            "Epoch 26/50\n",
            "3/3 [==============================] - 0s 3ms/step - loss: 0.5340 - mae: 0.5340\n",
            "Epoch 27/50\n",
            "3/3 [==============================] - 0s 3ms/step - loss: 0.3768 - mae: 0.3768\n",
            "Epoch 28/50\n",
            "3/3 [==============================] - 0s 3ms/step - loss: 0.4313 - mae: 0.4313\n",
            "Epoch 29/50\n",
            "3/3 [==============================] - 0s 3ms/step - loss: 0.4096 - mae: 0.4096\n",
            "Epoch 30/50\n",
            "3/3 [==============================] - 0s 3ms/step - loss: 0.3823 - mae: 0.3823\n",
            "Epoch 31/50\n",
            "3/3 [==============================] - 0s 3ms/step - loss: 0.4697 - mae: 0.4697\n",
            "Epoch 32/50\n",
            "3/3 [==============================] - 0s 3ms/step - loss: 0.3693 - mae: 0.3693\n",
            "Epoch 33/50\n",
            "3/3 [==============================] - 0s 3ms/step - loss: 0.5065 - mae: 0.5065\n",
            "Epoch 34/50\n",
            "3/3 [==============================] - 0s 3ms/step - loss: 0.3548 - mae: 0.3548\n",
            "Epoch 35/50\n",
            "3/3 [==============================] - 0s 3ms/step - loss: 0.5074 - mae: 0.5074\n",
            "Epoch 36/50\n",
            "3/3 [==============================] - 0s 3ms/step - loss: 0.3496 - mae: 0.3496\n",
            "Epoch 37/50\n",
            "3/3 [==============================] - 0s 3ms/step - loss: 0.5404 - mae: 0.5404\n",
            "Epoch 38/50\n",
            "3/3 [==============================] - 0s 3ms/step - loss: 0.3930 - mae: 0.3930\n",
            "Epoch 39/50\n",
            "3/3 [==============================] - 0s 3ms/step - loss: 0.4667 - mae: 0.4667\n",
            "Epoch 40/50\n",
            "3/3 [==============================] - 0s 3ms/step - loss: 0.4106 - mae: 0.4106\n",
            "Epoch 41/50\n",
            "3/3 [==============================] - 0s 3ms/step - loss: 0.4200 - mae: 0.4200\n",
            "Epoch 42/50\n",
            "3/3 [==============================] - 0s 3ms/step - loss: 0.4043 - mae: 0.4043\n",
            "Epoch 43/50\n",
            "3/3 [==============================] - 0s 3ms/step - loss: 0.4006 - mae: 0.4006\n",
            "Epoch 44/50\n",
            "3/3 [==============================] - 0s 3ms/step - loss: 0.4014 - mae: 0.4014\n",
            "Epoch 45/50\n",
            "3/3 [==============================] - 0s 3ms/step - loss: 0.4349 - mae: 0.4349\n",
            "Epoch 46/50\n",
            "3/3 [==============================] - 0s 3ms/step - loss: 0.4312 - mae: 0.4312\n",
            "Epoch 47/50\n",
            "3/3 [==============================] - 0s 3ms/step - loss: 0.1988 - mae: 0.1988\n",
            "Epoch 48/50\n",
            "3/3 [==============================] - 0s 3ms/step - loss: 0.4112 - mae: 0.4112\n",
            "Epoch 49/50\n",
            "3/3 [==============================] - 0s 3ms/step - loss: 0.3991 - mae: 0.3991\n",
            "Epoch 50/50\n",
            "3/3 [==============================] - 0s 3ms/step - loss: 0.4430 - mae: 0.4430\n"
          ]
        },
        {
          "output_type": "execute_result",
          "data": {
            "text/plain": [
              "<keras.src.callbacks.History at 0x7b7e4c0c08e0>"
            ]
          },
          "metadata": {},
          "execution_count": 30
        }
      ]
    },
    {
      "cell_type": "code",
      "source": [
        "# print(X_test)\n",
        "# print(y_test)\n",
        "plt.plot(X_test,y_test, 'bo',label='Original')\n",
        "plt.plot(X_test,model.predict(X_test), 'ro',label='Predicted')\n",
        "plt.legend()\n",
        "plt.show()"
      ],
      "metadata": {
        "colab": {
          "base_uri": "https://localhost:8080/",
          "height": 447
        },
        "id": "OLaROvg5QbNv",
        "outputId": "0e287565-d842-4882-c38d-b58b3cc23c79"
      },
      "execution_count": 31,
      "outputs": [
        {
          "output_type": "stream",
          "name": "stdout",
          "text": [
            "3/3 [==============================] - 0s 2ms/step\n"
          ]
        },
        {
          "output_type": "display_data",
          "data": {
            "text/plain": [
              "<Figure size 640x480 with 1 Axes>"
            ],
            "image/png": "[encoded data removed]"
          },
          "metadata": {}
        }
      ]
    },
    {
      "cell_type": "code",
      "source": [
        "model.summary()"
      ],
      "metadata": {
        "colab": {
          "base_uri": "https://localhost:8080/"
        },
        "id": "FVwqnHJfPzFC",
        "outputId": "06de0ebc-aa25-4563-a909-ac0ead25c0b8"
      },
      "execution_count": 32,
      "outputs": [
        {
          "output_type": "stream",
          "name": "stdout",
          "text": [
            "Model: \"sequential_2\"\n",
            "_________________________________________________________________\n",
            " Layer (type)                Output Shape              Param #   \n",
            "=================================================================\n",
            " dense_2 (Dense)             (None, 1)                 2         \n",
            "                                                                 \n",
            "=================================================================\n",
            "Total params: 2 (8.00 Byte)\n",
            "Trainable params: 2 (8.00 Byte)\n",
            "Non-trainable params: 0 (0.00 Byte)\n",
            "_________________________________________________________________\n"
          ]
        }
      ]
    },
    {
      "cell_type": "code",
      "source": [
        "from tensorflow.keras.utils import plot_model\n",
        "plot_model(model, show_shapes=True)"
      ],
      "metadata": {
        "colab": {
          "base_uri": "https://localhost:8080/"
        },
        "id": "EEOfaynwQEwg",
        "outputId": "ad31cce4-ab96-451c-dea8-6ea62a43a43c"
      },
      "execution_count": 40,
      "outputs": [
        {
          "output_type": "stream",
          "name": "stdout",
          "text": [
            "Collecting pydot\n",
            "  Downloading pydot-3.0.1-py3-none-any.whl.metadata (9.9 kB)\n",
            "Requirement already satisfied: pyparsing>=3.0.9 in /usr/local/lib/python3.10/dist-packages (from pydot) (3.1.4)\n",
            "Downloading pydot-3.0.1-py3-none-any.whl (22 kB)\n",
            "Installing collected packages: pydot\n",
            "Successfully installed pydot-3.0.1\n",
            "You must install pydot (`pip install pydot`) and install graphviz (see instructions at https://graphviz.gitlab.io/download/) for plot_model to work.\n"
          ]
        }
      ]
    },
    {
      "cell_type": "code",
      "source": [
        "model.evaluate(X_test,y_test)"
      ],
      "metadata": {
        "colab": {
          "base_uri": "https://localhost:8080/"
        },
        "id": "4Hpl39AgeiQC",
        "outputId": "7ea6e3f6-151b-4923-ae96-a21464590097"
      },
      "execution_count": 46,
      "outputs": [
        {
          "output_type": "stream",
          "name": "stdout",
          "text": [
            "3/3 [==============================] - 0s 3ms/step - loss: 0.2447 - mae: 0.2447\n"
          ]
        },
        {
          "output_type": "execute_result",
          "data": {
            "text/plain": [
              "[0.24470734596252441, 0.24470734596252441]"
            ]
          },
          "metadata": {},
          "execution_count": 46
        }
      ]
    },
    {
      "cell_type": "code",
      "source": [
        "mea=tf.metrics.mean_absolute_error(y_test,model.predict(X_test))\n",
        "mea=tf.metrics.mean_squared_error(y_test,model.predict(X_test))\n",
        "print(mea)\n",
        "tf.reduce_mean(mea)"
      ],
      "metadata": {
        "colab": {
          "base_uri": "https://localhost:8080/"
        },
        "id": "natTXTGafuuB",
        "outputId": "9e984f26-824a-43bf-e8d3-a6f32e46d127"
      },
      "execution_count": 44,
      "outputs": [
        {
          "output_type": "stream",
          "name": "stdout",
          "text": [
            "3/3 [==============================] - 0s 2ms/step\n",
            "3/3 [==============================] - 0s 2ms/step\n",
            "tf.Tensor(\n",
            "[1.01434685e-01 6.91184588e-03 2.34996229e-01 1.19206212e-01\n",
            " 2.34996229e-01 1.86834130e-02 8.84096101e-02 2.61670679e-01\n",
            " 3.17671895e-03 7.91017555e-06 1.23121895e-01 3.19324762e-01\n",
            " 4.70943823e-02 3.50302547e-01 1.01434685e-01 4.51836437e-01\n",
            " 7.32038915e-02 7.91017555e-06 4.70943823e-02 1.86834130e-02\n",
            " 8.75420577e-04 1.63569346e-01 1.59051239e-01 1.71773806e-02\n",
            " 4.46847305e-02 7.91017555e-06 3.50302547e-01 1.86834130e-02\n",
            " 3.40818688e-02 2.49127932e-02 6.91184588e-03 2.49127932e-02\n",
            " 1.71773806e-02 3.61903161e-02 3.17671895e-03 2.67200340e-02\n",
            " 1.85944974e-01 1.59051239e-01 3.61903161e-02 5.74201287e-04\n",
            " 3.40818688e-02 1.85944974e-01 1.38412192e-01 1.05049171e-01\n",
            " 4.44303721e-01 6.91184588e-03 1.86834130e-02 5.74201287e-04\n",
            " 4.70943823e-02 5.94324730e-02 1.71773806e-02 3.17671895e-03\n",
            " 3.17671895e-03 7.32038915e-02 3.50302547e-01 2.67200340e-02\n",
            " 1.86834130e-02 2.67200340e-02 1.01434685e-01 3.61903161e-02\n",
            " 1.59051239e-01 4.70943823e-02 2.57430598e-03 2.09753692e-01\n",
            " 5.66277146e-01 2.89780796e-01 1.42629087e-01 1.05049171e-01\n",
            " 1.19206212e-01 7.91017555e-06 2.49127932e-02 4.46847305e-02\n",
            " 3.61903161e-02 6.91184588e-03 7.91017555e-06 1.20807346e-02\n",
            " 6.00822503e-03 1.20807346e-02 2.49127932e-02 1.20807346e-02], shape=(80,), dtype=float32)\n"
          ]
        },
        {
          "output_type": "execute_result",
          "data": {
            "text/plain": [
              "<tf.Tensor: shape=(), dtype=float32, numpy=0.09287954>"
            ]
          },
          "metadata": {},
          "execution_count": 44
        }
      ]
    },
    {
      "cell_type": "markdown",
      "source": [
        "For Saving the model in pb file.\n",
        "2 types HDF5 and savedModelformate."
      ],
      "metadata": {
        "id": "RPk74khtnz4F"
      }
    },
    {
      "cell_type": "code",
      "source": [
        "model.save('First_TF_Model.h5')"
      ],
      "metadata": {
        "colab": {
          "base_uri": "https://localhost:8080/"
        },
        "id": "659OebJ6nzQO",
        "outputId": "bcdf465c-d9a1-45d5-d89c-7a25907ee125"
      },
      "execution_count": 48,
      "outputs": [
        {
          "output_type": "stream",
          "name": "stderr",
          "text": [
            "/usr/local/lib/python3.10/dist-packages/keras/src/engine/training.py:3103: UserWarning: You are saving your model as an HDF5 file via `model.save()`. This file format is considered legacy. We recommend using instead the native Keras format, e.g. `model.save('my_model.keras')`.\n",
            "  saving_api.save_model(\n"
          ]
        }
      ]
    }
  ]
}